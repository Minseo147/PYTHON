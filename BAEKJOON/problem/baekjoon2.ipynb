{
  "nbformat": 4,
  "nbformat_minor": 0,
  "metadata": {
    "colab": {
      "provenance": []
    },
    "kernelspec": {
      "name": "python3",
      "display_name": "Python 3"
    },
    "language_info": {
      "name": "python"
    }
  },
  "cells": [
    {
      "cell_type": "code",
      "execution_count": null,
      "metadata": {
        "colab": {
          "base_uri": "https://localhost:8080/"
        },
        "id": "j4nf4dvi15Mg",
        "outputId": "7661a9b2-3969-41a4-e0a6-9ef28421cfe1"
      },
      "outputs": [
        {
          "output_type": "stream",
          "name": "stdout",
          "text": [
            "5 5\n",
            "==\n"
          ]
        }
      ],
      "source": [
        "A, B = map(int, input().split())\n",
        "\n",
        "if A > B:\n",
        "  print('>')\n",
        "elif A < B:\n",
        "  print('<')\n",
        "else :\n",
        "  print('==')"
      ]
    },
    {
      "cell_type": "code",
      "source": [
        "a = int(input())\n",
        "\n",
        "if a > 89:\n",
        "  print('A')\n",
        "elif a > 79:\n",
        "  print('B')\n",
        "elif a > 69:\n",
        "  print('C')\n",
        "elif a > 59:\n",
        "  print('D')\n",
        "else:\n",
        "  print('F')"
      ],
      "metadata": {
        "colab": {
          "base_uri": "https://localhost:8080/"
        },
        "id": "giqJTuT6wvwf",
        "outputId": "9757993e-edf7-4c96-f4ee-aa1a3552db9d"
      },
      "execution_count": null,
      "outputs": [
        {
          "output_type": "stream",
          "name": "stdout",
          "text": [
            "78\n",
            "C\n"
          ]
        }
      ]
    },
    {
      "cell_type": "code",
      "source": [
        "a = int(input())\n",
        "\n",
        "if a % 400 == 0:\n",
        "  print('1')\n",
        "elif a % 4 ==0 and a %100 !=0: \n",
        "  print('1')\n",
        "else:\n",
        "  print('0')\n"
      ],
      "metadata": {
        "colab": {
          "base_uri": "https://localhost:8080/"
        },
        "id": "dSufOGM_xnhN",
        "outputId": "7ace8554-8a10-477f-9fd4-1597b6bf4c60"
      },
      "execution_count": null,
      "outputs": [
        {
          "output_type": "stream",
          "name": "stdout",
          "text": [
            "1999\n",
            "0\n"
          ]
        }
      ]
    },
    {
      "cell_type": "code",
      "source": [
        "a = int(input())\n",
        "b = int(input())\n",
        "\n",
        "if a >0 and b>0:\n",
        "  print('1')\n",
        "elif a<0 and b>0:\n",
        "  print('2')\n",
        "elif a<0 and b<0:\n",
        "  print('3')\n",
        "else:\n",
        "  print('4')"
      ],
      "metadata": {
        "id": "ktyU-sBE0sWf"
      },
      "execution_count": null,
      "outputs": []
    },
    {
      "cell_type": "code",
      "source": [
        "h,m = map(int ,input().split())\n",
        "\n",
        "if m > 44:\n",
        "  print(h,m-45)\n",
        "elif m < 45 and h > 0:\n",
        "  print(h-1,m+15)\n",
        "else:\n",
        "  print(23,m+15)"
      ],
      "metadata": {
        "colab": {
          "base_uri": "https://localhost:8080/"
        },
        "id": "D1I41AtnZ_0V",
        "outputId": "38fe8fec-8776-45a9-bc48-7f44ec73d536"
      },
      "execution_count": null,
      "outputs": [
        {
          "output_type": "stream",
          "name": "stdout",
          "text": [
            "10 10\n",
            "9 25\n"
          ]
        }
      ]
    },
    {
      "cell_type": "code",
      "source": [
        "hour, minute = map(int, input().split())\n",
        "time = int(input())\n",
        "\n",
        "hour += time // 60\n",
        "minute += time % 60\n",
        "\n",
        "if minute >= 60:\n",
        "    hour += 1\n",
        "    minute -= 60\n",
        "if hour >= 24:\n",
        "    hour -= 24\n",
        "print(hour, minute)\n"
      ],
      "metadata": {
        "colab": {
          "base_uri": "https://localhost:8080/"
        },
        "id": "zw5jFS7XAMHF",
        "outputId": "a509d429-86be-4524-f1f8-c777408ebb7b"
      },
      "execution_count": null,
      "outputs": [
        {
          "output_type": "stream",
          "name": "stdout",
          "text": [
            "14 30\n",
            "20\n",
            "14 50\n"
          ]
        }
      ]
    },
    {
      "cell_type": "code",
      "source": [
        "a,b,c = map(int, input().split())\n",
        "\n",
        "if a == b == c:\n",
        "  print(10000 + a*1000)\n",
        "elif a ==b or a == c or b == c:\n",
        "  if a == b or b == c:\n",
        "        same = b\n",
        "  else:\n",
        "        same = c\n",
        "  num = 1000 + same * 100\n",
        "  print(num)\n",
        "else: \n",
        "  num2 = max(a, b, c) * 100\n",
        "  print(num2)"
      ],
      "metadata": {
        "colab": {
          "base_uri": "https://localhost:8080/"
        },
        "id": "lFR1TSrEed0G",
        "outputId": "aae0ffdb-6bc5-4191-f859-2d450399c760"
      },
      "execution_count": null,
      "outputs": [
        {
          "output_type": "stream",
          "name": "stdout",
          "text": [
            "2 2 2 \n",
            "12000\n"
          ]
        }
      ]
    }
  ]
}