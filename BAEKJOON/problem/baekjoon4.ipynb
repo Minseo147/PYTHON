{
  "nbformat": 4,
  "nbformat_minor": 0,
  "metadata": {
    "colab": {
      "provenance": []
    },
    "kernelspec": {
      "name": "python3",
      "display_name": "Python 3"
    },
    "language_info": {
      "name": "python"
    }
  },
  "cells": [
    {
      "cell_type": "code",
      "source": [
        "a = int(input())\n",
        "num = list(map(int, input().split()))\n",
        "b = int(input())\n",
        "\n",
        "count = 0\n",
        "for i in num:\n",
        "    if i == b:\n",
        "        count += 1\n",
        "\n",
        "print(count)"
      ],
      "metadata": {
        "colab": {
          "base_uri": "https://localhost:8080/"
        },
        "id": "hD6M0rOOS50X",
        "outputId": "66651dd6-082c-4141-aca0-33adc59b065c"
      },
      "execution_count": null,
      "outputs": [
        {
          "output_type": "stream",
          "name": "stdout",
          "text": [
            "11\n",
            "1 4 1 2 4 2 4 2 3 4 4\n",
            "2\n",
            "3\n"
          ]
        }
      ]
    },
    {
      "cell_type": "code",
      "source": [
        "n, x = map(int, input().split())\n",
        "a = list(map(int, input().split()))\n",
        "for i in range(n):\n",
        "  if a[i]<x:\n",
        "    print(a[i], end=\" \")"
      ],
      "metadata": {
        "colab": {
          "base_uri": "https://localhost:8080/"
        },
        "id": "imO-EHKMUpba",
        "outputId": "3a5db81e-0405-4a0b-bc44-e5b375f7def5"
      },
      "execution_count": null,
      "outputs": [
        {
          "output_type": "stream",
          "name": "stdout",
          "text": [
            "10 5\n",
            "1 10 4 9 2 3 8 5 7 6\n",
            "1 4 2 3 "
          ]
        }
      ]
    },
    {
      "cell_type": "code",
      "source": [
        "n = int (input())\n",
        "a = list(map (int, input().split()))\n",
        "min_value = min(a)\n",
        "max_value = max(a)\n",
        "print (min_value, max_value)"
      ],
      "metadata": {
        "colab": {
          "base_uri": "https://localhost:8080/"
        },
        "id": "qC7RXilaVAOc",
        "outputId": "1b0dd878-55ee-4fa9-b244-eae0ed43f1b7"
      },
      "execution_count": null,
      "outputs": [
        {
          "output_type": "stream",
          "name": "stdout",
          "text": [
            "5\n",
            "20 10 35 30 7\n",
            "7 35\n"
          ]
        }
      ]
    },
    {
      "cell_type": "code",
      "source": [
        "numbers = []\n",
        "for i in range(9):\n",
        "  numbers.append(int(input()))\n",
        "  max_num = max(numbers)\n",
        "  max_index = numbers.index(max_num) + 1\n",
        "print(max_num)\n",
        "print(max_index)"
      ],
      "metadata": {
        "colab": {
          "base_uri": "https://localhost:8080/"
        },
        "id": "ncKWJQODWYFB",
        "outputId": "48c1a9a2-5ae0-4f6c-a08d-3a0fb3a90a12"
      },
      "execution_count": null,
      "outputs": [
        {
          "output_type": "stream",
          "name": "stdout",
          "text": [
            "3\n",
            "29\n",
            "38\n",
            "12\n",
            "57\n",
            "74\n",
            "40\n",
            "85\n",
            "61\n",
            "85\n",
            "8\n"
          ]
        }
      ]
    },
    {
      "cell_type": "code",
      "source": [
        "n, m = map(int, input().split())\n",
        "boxes = [0] * n\n",
        "\n",
        "for i in range(m):\n",
        "    a, b, k = map(int, input().split())\n",
        "    for j in range(a-1, b):\n",
        "        boxes[j] = k\n",
        "\n",
        "print(*boxes)"
      ],
      "metadata": {
        "id": "5kZa3AIeK_CS",
        "colab": {
          "base_uri": "https://localhost:8080/"
        },
        "outputId": "1f231b8b-d4e5-4771-f10e-5c6b2abd29af"
      },
      "execution_count": 7,
      "outputs": [
        {
          "output_type": "stream",
          "name": "stdout",
          "text": [
            "5 4 \n",
            "1 2 3\n",
            "3 4 4\n",
            "1 4 1\n",
            "2 2 2\n",
            "1 2 1 1 0\n"
          ]
        }
      ]
    },
    {
      "cell_type": "code",
      "source": [
        "n, m = map(int, input().split())\n",
        "cups = list(range(1, n+1))\n",
        "\n",
        "for i in range(m):\n",
        "    a, b = map(int, input().split())\n",
        "    cups[a-1], cups[b-1] = cups[b-1], cups[a-1]\n",
        "\n",
        "print(*cups)"
      ],
      "metadata": {
        "id": "xklAI0MDK_Xq",
        "colab": {
          "base_uri": "https://localhost:8080/"
        },
        "outputId": "31423fec-b7cc-49e7-ea48-8d546bda59b2"
      },
      "execution_count": 8,
      "outputs": [
        {
          "output_type": "stream",
          "name": "stdout",
          "text": [
            "5 4 \n",
            "1 2\n",
            "3 4\n",
            "1 4\n",
            "2 2\n",
            "3 1 4 2 5\n"
          ]
        }
      ]
    },
    {
      "cell_type": "code",
      "source": [
        "students = set(range(1, 31))\n",
        "for i in range(28):\n",
        "    students.discard(int(input()))\n",
        "print(*students)"
      ],
      "metadata": {
        "colab": {
          "base_uri": "https://localhost:8080/"
        },
        "id": "cxtDD51rJBK7",
        "outputId": "b6b71858-e601-466a-8098-51de70ff980b"
      },
      "execution_count": 9,
      "outputs": [
        {
          "output_type": "stream",
          "name": "stdout",
          "text": [
            "3\n",
            "1\n",
            "4\n",
            "5\n",
            "7\n",
            "9\n",
            "6\n",
            "10\n",
            "11\n",
            "12\n",
            "13\n",
            "14\n",
            "15\n",
            "16\n",
            "17\n",
            "18\n",
            "19\n",
            "29\n",
            "21\n",
            "22\n",
            "23\n",
            "24\n",
            "25\n",
            "26\n",
            "27\n",
            "28\n",
            "29\n",
            "30\n",
            "2 8 20\n"
          ]
        }
      ]
    },
    {
      "cell_type": "code",
      "source": [
        "remainders = set()\n",
        "for i in range(10):\n",
        "    n = int(input())\n",
        "    remainders.add(n % 42)\n",
        "print(len(remainders))"
      ],
      "metadata": {
        "colab": {
          "base_uri": "https://localhost:8080/"
        },
        "id": "hD0i3RgYJ4J4",
        "outputId": "8452c503-283a-4858-e0a5-94d166609e03"
      },
      "execution_count": 10,
      "outputs": [
        {
          "output_type": "stream",
          "name": "stdout",
          "text": [
            "1\n",
            "2\n",
            "3\n",
            "4\n",
            "5\n",
            "6\n",
            "7\n",
            "8\n",
            "9\n",
            "10\n",
            "10\n"
          ]
        }
      ]
    },
    {
      "cell_type": "code",
      "source": [
        "n, m = map(int, input().split())\n",
        "baskets = list(range(1, n+1))\n",
        "\n",
        "for i in range(m):\n",
        "    first, last = map(int, input().split())\n",
        "    baskets[first-1:last] = reversed(baskets[first-1:last])\n",
        "\n",
        "print(' '.join(map(str, baskets)))"
      ],
      "metadata": {
        "colab": {
          "base_uri": "https://localhost:8080/"
        },
        "id": "0s1uvsAkJ4hG",
        "outputId": "e9f8ac0a-81fb-4759-9a3a-cc2af0f88907"
      },
      "execution_count": 21,
      "outputs": [
        {
          "output_type": "stream",
          "name": "stdout",
          "text": [
            "5 4\n",
            "1 2\n",
            "3 4\n",
            "1 4\n",
            "2 2\n",
            "3 4 1 2 5\n"
          ]
        }
      ]
    },
    {
      "cell_type": "code",
      "source": [
        "n = int(input())\n",
        "scores = list(map(int, input().split()))\n",
        "max_score = max(scores)\n",
        "new_scores = [score/max_score*100 for score in scores]\n",
        "avg_score = sum(new_scores)/n\n",
        "print(avg_score)"
      ],
      "metadata": {
        "colab": {
          "base_uri": "https://localhost:8080/"
        },
        "id": "4PNFGXz-J4pG",
        "outputId": "ad1322be-e3e8-43cd-f54f-88f28226f438"
      },
      "execution_count": 20,
      "outputs": [
        {
          "output_type": "stream",
          "name": "stdout",
          "text": [
            "3\n",
            "40 80 60\n",
            "75.0\n"
          ]
        }
      ]
    }
  ]
}