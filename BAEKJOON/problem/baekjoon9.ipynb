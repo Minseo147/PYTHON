{
  "nbformat": 4,
  "nbformat_minor": 0,
  "metadata": {
    "colab": {
      "provenance": []
    },
    "kernelspec": {
      "name": "python3",
      "display_name": "Python 3"
    },
    "language_info": {
      "name": "python"
    }
  },
  "cells": [
    {
      "cell_type": "code",
      "execution_count": null,
      "metadata": {
        "colab": {
          "base_uri": "https://localhost:8080/"
        },
        "id": "QTkDzAfzRiUG",
        "outputId": "7aa7127c-2048-4f1d-f399-707828b1a933"
      },
      "outputs": [
        {
          "name": "stdout",
          "output_type": "stream",
          "text": [
            "8 16\n",
            "factor\n",
            "32 4\n",
            "multiple\n",
            "17 5\n",
            "neither\n",
            "0 0\n"
          ]
        }
      ],
      "source": [
        "while True:\n",
        "  a,b = map(int,input().split())\n",
        "  if a == 0 and b == 0:\n",
        "    break\n",
        "  if b% a == 0:\n",
        "    print(\"factor\")\n",
        "  elif a % b == 0:\n",
        "    print(\"multiple\")\n",
        "  else:\n",
        "    print(\"neither\")"
      ]
    },
    {
      "cell_type": "code",
      "source": [
        "a, b = map(int, input().split())\n",
        "count = 0\n",
        "for i in range(1, a+1):\n",
        "    if a % i == 0:\n",
        "        count += 1\n",
        "    if count == b:\n",
        "        print(i)\n",
        "        break\n",
        "else:\n",
        "    print(0)"
      ],
      "metadata": {
        "id": "F-h8ryiHS3dj",
        "colab": {
          "base_uri": "https://localhost:8080/"
        },
        "outputId": "153180d4-28d5-4c04-a59d-595864fe50c2"
      },
      "execution_count": 1,
      "outputs": [
        {
          "output_type": "stream",
          "name": "stdout",
          "text": [
            "6 3\n",
            "3\n"
          ]
        }
      ]
    },
    {
      "cell_type": "code",
      "source": [
        "while True:\n",
        "    a = int(input())\n",
        "    if a == -1:\n",
        "        break\n",
        "    divisors = []\n",
        "    for i in range(1, a):\n",
        "        if a % i == 0:\n",
        "            divisors.append(i)\n",
        "    if sum(divisors) == a:\n",
        "        print(f\"{a} = {' + '.join(map(str, divisors))}\")\n",
        "    else:\n",
        "        print(f\"{a} is NOT perfect.\")"
      ],
      "metadata": {
        "id": "eKd_w9hYS3mP",
        "colab": {
          "base_uri": "https://localhost:8080/"
        },
        "outputId": "3d961fee-922b-4592-91c1-f2819fea9c76"
      },
      "execution_count": 5,
      "outputs": [
        {
          "name": "stdout",
          "output_type": "stream",
          "text": [
            "6\n",
            "6 = 1 + 2 + 3\n",
            "12\n",
            "12 is NOT perfect.\n",
            "28\n",
            "28 = 1 + 2 + 4 + 7 + 14\n",
            "-1\n"
          ]
        }
      ]
    },
    {
      "cell_type": "code",
      "source": [
        "def is_prime(a):\n",
        "    if a < 2:\n",
        "        return False\n",
        "    for i in range(2, int(a**0.5)+1):\n",
        "        if a % i == 0:\n",
        "            return False\n",
        "    return True\n",
        "\n",
        "a = int(input())\n",
        "numbers = list(map(int, input().split()))\n",
        "count = 0\n",
        "for num in numbers:\n",
        "    if is_prime(num):\n",
        "        count += 1\n",
        "print(count)"
      ],
      "metadata": {
        "colab": {
          "base_uri": "https://localhost:8080/"
        },
        "id": "xImdCMIZS3x_",
        "outputId": "801e3763-133e-442e-d949-30c3467a4b03"
      },
      "execution_count": 7,
      "outputs": [
        {
          "output_type": "stream",
          "name": "stdout",
          "text": [
            "4\n",
            "1 3 5 7\n",
            "3\n"
          ]
        }
      ]
    },
    {
      "cell_type": "code",
      "source": [
        "def is_prime(a):\n",
        "    if a < 2:\n",
        "        return False\n",
        "    for i in range(2, int(a**0.5)+1):\n",
        "        if a % i == 0:\n",
        "            return False\n",
        "    return True\n",
        "\n",
        "m = int(input())\n",
        "a = int(input())\n",
        "primes = []\n",
        "for num in range(m, a+1):\n",
        "    if is_prime(num):\n",
        "        primes.append(num)\n",
        "if primes:\n",
        "    print(sum(primes))\n",
        "    print(min(primes))\n",
        "else:\n",
        "    print(-1)"
      ],
      "metadata": {
        "colab": {
          "base_uri": "https://localhost:8080/"
        },
        "id": "d-wj8Ma1aJZJ",
        "outputId": "4b09bc16-f1b0-4347-9f88-c6a4076cfedc"
      },
      "execution_count": 8,
      "outputs": [
        {
          "output_type": "stream",
          "name": "stdout",
          "text": [
            "60\n",
            "100\n",
            "620\n",
            "61\n"
          ]
        }
      ]
    },
    {
      "cell_type": "code",
      "source": [
        "a = int(input())\n",
        "b = 2\n",
        "while a != 1:\n",
        "    if a % b == 0:\n",
        "        print(b)\n",
        "        a //= b\n",
        "    else:\n",
        "        b += 1"
      ],
      "metadata": {
        "colab": {
          "base_uri": "https://localhost:8080/"
        },
        "id": "7AdapSwwaJtH",
        "outputId": "7a932430-2c31-4aed-a47a-7db07949a2c0"
      },
      "execution_count": 11,
      "outputs": [
        {
          "output_type": "stream",
          "name": "stdout",
          "text": [
            "72\n",
            "2\n",
            "2\n",
            "2\n",
            "3\n",
            "3\n"
          ]
        }
      ]
    }
  ]
}