{
  "nbformat": 4,
  "nbformat_minor": 0,
  "metadata": {
    "colab": {
      "provenance": []
    },
    "kernelspec": {
      "name": "python3",
      "display_name": "Python 3"
    },
    "language_info": {
      "name": "python"
    }
  },
  "cells": [
    {
      "cell_type": "code",
      "execution_count": null,
      "metadata": {
        "colab": {
          "base_uri": "https://localhost:8080/"
        },
        "id": "jo65H9T76Jlg",
        "outputId": "09b254f4-aa40-48fb-e7c4-388686dfe060"
      },
      "outputs": [
        {
          "output_type": "stream",
          "name": "stdout",
          "text": [
            "         ,r'\"7\n",
            "r`-_   ,'  ,/\n",
            " \\. \". L_r'\n",
            "   `~\\/\n",
            "      |\n",
            "      |\n"
          ]
        }
      ],
      "source": [
        "print(\"         ,r'\\\"7\")\n",
        "print(\"r`-_   ,'  ,/\")\n",
        "print(\" \\. \\\". L_r'\")\n",
        "print(\"   `~\\/\")\n",
        "print(\"      |\")\n",
        "print(\"      |\")"
      ]
    },
    {
      "cell_type": "code",
      "source": [
        "chess = input()\n",
        "chess = chess.split()\n",
        "a = int(chess[0])\n",
        "b = int(chess[1])\n",
        "c = int(chess[2])\n",
        "d = int(chess[3])\n",
        "e = int(chess[4])\n",
        "f = int(chess[5])\n",
        "if 0<=a<=10 and 0<=b<=10 and 0<=c<=10 and 0<=d<=10 and 0<=e<=10 and 0<=f<=10:\n",
        "    print(1-a, 1-b, 2-c, 2-d, 2-e, 8-f)"
      ],
      "metadata": {
        "colab": {
          "base_uri": "https://localhost:8080/"
        },
        "id": "NbRfVLFuguYz",
        "outputId": "ee0d7f1e-f645-485c-a6fc-d21604ef56f3"
      },
      "execution_count": 2,
      "outputs": [
        {
          "output_type": "stream",
          "name": "stdout",
          "text": [
            "0 1 2 2 2 7\n",
            "1 0 0 0 0 1\n"
          ]
        }
      ]
    },
    {
      "cell_type": "code",
      "source": [
        "n = int(input())\n",
        "\n",
        "for i in range(n):\n",
        "    for j in range(n - i - 1):\n",
        "        print(\" \", end=\"\")\n",
        "    for k in range(2 * i + 1):\n",
        "        print(\"*\", end=\"\")\n",
        "    print()\n",
        "\n",
        "for i in range(n - 2, -1, -1):\n",
        "    for j in range(n - i - 1):\n",
        "        print(\" \", end=\"\")\n",
        "    for k in range(2 * i + 1):\n",
        "        print(\"*\", end=\"\")\n",
        "    print()"
      ],
      "metadata": {
        "colab": {
          "base_uri": "https://localhost:8080/"
        },
        "id": "OmELOaO2NKTN",
        "outputId": "451a0559-325c-4ac5-de51-9ff5f3afeb6e"
      },
      "execution_count": 5,
      "outputs": [
        {
          "output_type": "stream",
          "name": "stdout",
          "text": [
            "5\n",
            "    *\n",
            "   ***\n",
            "  *****\n",
            " *******\n",
            "*********\n",
            " *******\n",
            "  *****\n",
            "   ***\n",
            "    *\n"
          ]
        }
      ]
    },
    {
      "cell_type": "code",
      "source": [
        "a = input(\"\")\n",
        "if a == a[::-1]:\n",
        "    print(\"1\")\n",
        "else:\n",
        "    print(\"0\")"
      ],
      "metadata": {
        "colab": {
          "base_uri": "https://localhost:8080/"
        },
        "id": "wfEOA2ZqNsHy",
        "outputId": "c1968e1b-9ca9-4df4-ce13-d01abe855cb3"
      },
      "execution_count": 8,
      "outputs": [
        {
          "output_type": "stream",
          "name": "stdout",
          "text": [
            "baekjoon\n",
            "0\n"
          ]
        }
      ]
    },
    {
      "cell_type": "code",
      "source": [
        "a=input().upper()\n",
        "c=0\n",
        "for i in set(a):\n",
        "    if a.count(i) > c :\n",
        "        c=a.count(i)\n",
        "        d=i\n",
        "    elif a.count(i) == c: d='?'\n",
        "print(d)"
      ],
      "metadata": {
        "colab": {
          "base_uri": "https://localhost:8080/"
        },
        "id": "7Pi9EkXKOPEf",
        "outputId": "a07ebd0a-91ca-414e-df51-c7dfbf659362"
      },
      "execution_count": 14,
      "outputs": [
        {
          "output_type": "stream",
          "name": "stdout",
          "text": [
            "Mississipi\n",
            "?\n"
          ]
        }
      ]
    },
    {
      "cell_type": "code",
      "source": [
        "count = int(input())\n",
        "\n",
        "for i in range(count):\n",
        "    student = list(map(int,input().split()))\n",
        "    sum = 0\n",
        "    aver = 0\n",
        "    for j in range((len(student)-1)):\n",
        "        sum += student[j+1]\n",
        "    average = sum / student[0]\n",
        "    for l in student[1:]:\n",
        "        if l > average:\n",
        "            aver += 1\n",
        "    lo = aver / student[0]\n",
        "    percent = lo * 100\n",
        "    formatpercent = \"{:.3f}%\".format(percent)\n",
        "    \n",
        "    print(formatpercent)"
      ],
      "metadata": {
        "colab": {
          "base_uri": "https://localhost:8080/"
        },
        "id": "oWsn61T9O7JF",
        "outputId": "43abc9cf-f79d-4ac9-ecac-901b2f9b4117"
      },
      "execution_count": 15,
      "outputs": [
        {
          "output_type": "stream",
          "name": "stdout",
          "text": [
            "5\n",
            "5 50 50 70 80 100\n",
            "40.000%\n",
            "7 100 95 90 80 70 60 50\n",
            "57.143%\n",
            "3 70 90 80\n",
            "33.333%\n",
            "3 70 90 81\n",
            "66.667%\n",
            "9 100 99 98 97 96 95 94 93 91\n",
            "55.556%\n"
          ]
        }
      ]
    },
    {
      "cell_type": "code",
      "source": [
        "word = input()\n",
        "croatian_alphabets = ['c=', 'c-', 'dz=', 'd-', 'lj', 'nj', 's=', 'z=']\n",
        "for alphabet in croatian_alphabets:\n",
        "    word = word.replace(alphabet, '*')\n",
        "print(len(word))"
      ],
      "metadata": {
        "colab": {
          "base_uri": "https://localhost:8080/"
        },
        "id": "1zmp97aJPvqW",
        "outputId": "ed865ee7-6219-486c-98ad-1cffb0dba6a0"
      },
      "execution_count": 16,
      "outputs": [
        {
          "output_type": "stream",
          "name": "stdout",
          "text": [
            "ljes=njak\n",
            "6\n"
          ]
        }
      ]
    },
    {
      "cell_type": "code",
      "source": [
        "a = int(input())\n",
        "count = 0\n",
        "for i in range(a):\n",
        "    word = input()\n",
        "    if list(word) == sorted(word, key=word.find):\n",
        "        count += 1\n",
        "print(count)"
      ],
      "metadata": {
        "colab": {
          "base_uri": "https://localhost:8080/"
        },
        "id": "xXtYBwHSQEax",
        "outputId": "c106f17f-c5d1-42f3-f8af-d028c45fb5d8"
      },
      "execution_count": 17,
      "outputs": [
        {
          "output_type": "stream",
          "name": "stdout",
          "text": [
            "3\n",
            "happy\n",
            "new\n",
            "year\n",
            "3\n"
          ]
        }
      ]
    },
    {
      "cell_type": "code",
      "source": [
        "rating = ['A+', 'A0', 'B+', 'B0', 'C+', 'C0', 'D+', 'D0', 'F']\n",
        "grade = [4.5, 4.0, 3.5, 3.0, 2.5, 2.0, 1.5, 1.0, 0]\n",
        "\n",
        "total = 0\n",
        "result = 0\n",
        "for _ in range(20) :\n",
        "    s, p, g = input().split()\n",
        "    p = float(p)\n",
        "    if g != 'P' :\n",
        "        total += p\n",
        "        result += p * grade[rating.index(g)]\n",
        "\n",
        "print('%.6f' % (result / total))"
      ],
      "metadata": {
        "colab": {
          "base_uri": "https://localhost:8080/"
        },
        "id": "wdvcv9y0RIPR",
        "outputId": "9cc6b4e1-75ec-41b7-b40f-765b09da5f66"
      },
      "execution_count": 23,
      "outputs": [
        {
          "output_type": "stream",
          "name": "stdout",
          "text": [
            "ObjectOrientedProgramming1 3.0 A+\n",
            "IntroductiontoComputerEngineering 3.0 A+\n",
            "ObjectOrientedProgramming2 3.0 A0\n",
            "CreativeComputerEngineeringDesign 3.0 A+\n",
            "AssemblyLanguage 3.0 A+\n",
            "InternetProgramming 3.0 B0\n",
            "ApplicationProgramminginJava 3.0 A0\n",
            "SystemProgramming 3.0 B0\n",
            "OperatingSystem 3.0 B0\n",
            "WirelessCommunicationsandNetworking 3.0 C+\n",
            "LogicCircuits 3.0 B0\n",
            "DataStructure 4.0 A+\n",
            "MicroprocessorApplication 3.0 B+\n",
            "EmbeddedSoftware 3.0 C0\n",
            "ComputerSecurity 3.0 D+\n",
            "Database 3.0 C+\n",
            "Algorithm 3.0 B0\n",
            "CapstoneDesigninCSE 3.0 B+\n",
            "CompilerDesign 3.0 D0\n",
            "ProblemSolving 4.0 P\n",
            "3.284483\n"
          ]
        }
      ]
    }
  ]
}