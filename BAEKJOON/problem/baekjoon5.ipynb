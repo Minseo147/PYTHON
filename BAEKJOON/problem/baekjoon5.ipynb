{
  "nbformat": 4,
  "nbformat_minor": 0,
  "metadata": {
    "colab": {
      "provenance": []
    },
    "kernelspec": {
      "name": "python3",
      "display_name": "Python 3"
    },
    "language_info": {
      "name": "python"
    }
  },
  "cells": [
    {
      "cell_type": "code",
      "execution_count": 1,
      "metadata": {
        "id": "ZbYI3tqlLycb",
        "colab": {
          "base_uri": "https://localhost:8080/"
        },
        "outputId": "9ba57265-7b70-411b-917a-5f196f42e0fe"
      },
      "outputs": [
        {
          "output_type": "stream",
          "name": "stdout",
          "text": [
            "Sprout\n",
            "3\n",
            "r\n"
          ]
        }
      ],
      "source": [
        "a = input()\n",
        "b = int(input())\n",
        "print(a[b-1])"
      ]
    },
    {
      "cell_type": "code",
      "source": [
        "a = input()\n",
        "\n",
        "print(len(a))"
      ],
      "metadata": {
        "colab": {
          "base_uri": "https://localhost:8080/"
        },
        "id": "CGQkuKkLNZ-7",
        "outputId": "4867e863-41a6-4713-8ab5-dc13a7ff7dcd"
      },
      "execution_count": null,
      "outputs": [
        {
          "output_type": "stream",
          "name": "stdout",
          "text": [
            "pulljima\n",
            "8\n"
          ]
        }
      ]
    },
    {
      "cell_type": "code",
      "source": [
        "a = int(input())\n",
        "\n",
        "for i in range(a):\n",
        "    b = input()\n",
        "    first = b[0]\n",
        "    last = b[-1]\n",
        "    print(first + last)"
      ],
      "metadata": {
        "colab": {
          "base_uri": "https://localhost:8080/"
        },
        "id": "1A4LOy35OS0o",
        "outputId": "552a65d2-0ac4-4f50-b04b-6def43da09d7"
      },
      "execution_count": 13,
      "outputs": [
        {
          "output_type": "stream",
          "name": "stdout",
          "text": [
            "3\n",
            "ACDKJFOWIEGHE\n",
            "AE\n",
            "0\n",
            "00\n",
            "AB\n",
            "AB\n"
          ]
        }
      ]
    },
    {
      "cell_type": "code",
      "source": [
        "a = input()\n",
        "\n",
        "print(ord(a))"
      ],
      "metadata": {
        "colab": {
          "base_uri": "https://localhost:8080/"
        },
        "id": "r7SYWnKgPB0U",
        "outputId": "d91acea3-4583-43f8-d291-d67e01111d49"
      },
      "execution_count": null,
      "outputs": [
        {
          "output_type": "stream",
          "name": "stdout",
          "text": [
            "A\n",
            "65\n"
          ]
        }
      ]
    },
    {
      "cell_type": "code",
      "source": [
        "n = int(input())\n",
        "nums = input()\n",
        "sum = 0\n",
        "for i in range(n):\n",
        "  sum += int(nums[i])\n",
        "print(sum)"
      ],
      "metadata": {
        "colab": {
          "base_uri": "https://localhost:8080/"
        },
        "id": "0HHvpxPQPwP2",
        "outputId": "90c5d6ce-1a5a-4e26-9661-9f496eb00a46"
      },
      "execution_count": null,
      "outputs": [
        {
          "output_type": "stream",
          "name": "stdout",
          "text": [
            "5\n",
            "54321\n",
            "15\n"
          ]
        }
      ]
    },
    {
      "cell_type": "code",
      "source": [
        "s = input()\n",
        "alphabet = [-1] * 26\n",
        "for i in range(len(s)):\n",
        "    if alphabet[ord(s[i])-97] == -1:\n",
        "        alphabet[ord(s[i])-97] = i\n",
        "for i in range(26):\n",
        "    print(alphabet[i], end=' ')"
      ],
      "metadata": {
        "id": "twN5S85sQbwJ",
        "colab": {
          "base_uri": "https://localhost:8080/"
        },
        "outputId": "ff1e8cbf-e1d6-4b71-c1ec-b883b5955e7d"
      },
      "execution_count": 5,
      "outputs": [
        {
          "output_type": "stream",
          "name": "stdout",
          "text": [
            "baekjoon\n",
            "1 0 -1 -1 2 -1 -1 -1 -1 4 3 -1 -1 7 5 -1 -1 -1 -1 -1 -1 -1 -1 -1 -1 -1 "
          ]
        }
      ]
    },
    {
      "cell_type": "code",
      "source": [
        "a = int(input())\n",
        "for i in range(a):\n",
        "    r, s = input().split()\n",
        "    for c in s:\n",
        "        print(c * int(r), end='')\n",
        "    print()"
      ],
      "metadata": {
        "id": "AMn69G8CQb_g",
        "colab": {
          "base_uri": "https://localhost:8080/"
        },
        "outputId": "c0f493f9-0f95-4385-e3fc-5b64f154e3b0"
      },
      "execution_count": 6,
      "outputs": [
        {
          "output_type": "stream",
          "name": "stdout",
          "text": [
            "2\n",
            "3 ABC\n",
            "AAABBBCCC\n",
            "5 /HTP\n",
            "/////HHHHHTTTTTPPPPP\n"
          ]
        }
      ]
    },
    {
      "cell_type": "code",
      "source": [
        "a = input().split()\n",
        "print(len(a))"
      ],
      "metadata": {
        "colab": {
          "base_uri": "https://localhost:8080/"
        },
        "id": "N-c7JimyQcHg",
        "outputId": "ee99e072-5393-42ed-e239-07e29cc50ebb"
      },
      "execution_count": null,
      "outputs": [
        {
          "output_type": "stream",
          "name": "stdout",
          "text": [
            "The Curious Case of Benjamin Button\n",
            "6\n"
          ]
        }
      ]
    },
    {
      "cell_type": "code",
      "source": [
        "a, b = input().split()\n",
        "a = int(a[::-1])\n",
        "b = int(b[::-1])\n",
        "print(max(a, b))"
      ],
      "metadata": {
        "id": "mWNXU0xyRCwp",
        "colab": {
          "base_uri": "https://localhost:8080/"
        },
        "outputId": "47bd90bb-90aa-4e06-91c4-1c888f29d681"
      },
      "execution_count": 7,
      "outputs": [
        {
          "output_type": "stream",
          "name": "stdout",
          "text": [
            "734 893\n",
            "437\n"
          ]
        }
      ]
    },
    {
      "cell_type": "code",
      "source": [
        "s = input()\n",
        "time = 0\n",
        "for c in s:\n",
        "    if c in ['A', 'B', 'C']:\n",
        "        time += 3\n",
        "    elif c in ['D', 'E', 'F']:\n",
        "        time += 4\n",
        "    elif c in ['G', 'H', 'I']:\n",
        "        time += 5\n",
        "    elif c in ['J', 'K', 'L']:\n",
        "        time += 6\n",
        "    elif c in ['M', 'N', 'O']:\n",
        "        time += 7\n",
        "    elif c in ['P', 'Q', 'R', 'S']:\n",
        "        time += 8\n",
        "    elif c in ['T', 'U', 'V']:\n",
        "        time += 9\n",
        "    elif c in ['W', 'X', 'Y', 'Z']:\n",
        "        time += 10\n",
        "print(time)"
      ],
      "metadata": {
        "id": "iv9gLXIGRFue",
        "colab": {
          "base_uri": "https://localhost:8080/"
        },
        "outputId": "7ec9f5be-c2fb-404f-ec95-179ad6c27b5d"
      },
      "execution_count": 10,
      "outputs": [
        {
          "output_type": "stream",
          "name": "stdout",
          "text": [
            "WA\n",
            "13\n"
          ]
        }
      ]
    },
    {
      "cell_type": "code",
      "source": [
        "while True:\n",
        "    try:\n",
        "        a = input()\n",
        "        print(a)\n",
        "    except:\n",
        "        break"
      ],
      "metadata": {
        "id": "TIZrcjFBRF3F",
        "colab": {
          "base_uri": "https://localhost:8080/"
        },
        "outputId": "1debd70f-8f0c-418c-ea20-c4fb6e7d966b"
      },
      "execution_count": 11,
      "outputs": [
        {
          "output_type": "stream",
          "name": "stdout",
          "text": [
            "Hello\n",
            "Hello\n",
            "Baekjoon\n",
            "Baekjoon\n",
            "Online Judge\n",
            "Online Judge\n"
          ]
        }
      ]
    }
  ]
}