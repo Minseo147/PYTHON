{
  "nbformat": 4,
  "nbformat_minor": 0,
  "metadata": {
    "colab": {
      "provenance": []
    },
    "kernelspec": {
      "name": "python3",
      "display_name": "Python 3"
    },
    "language_info": {
      "name": "python"
    }
  },
  "cells": [
    {
      "cell_type": "code",
      "execution_count": 2,
      "metadata": {
        "colab": {
          "base_uri": "https://localhost:8080/"
        },
        "id": "8_xEQAVs1Rlt",
        "outputId": "09cd7e39-cb14-427c-d28b-1c03ca02ebe8"
      },
      "outputs": [
        {
          "output_type": "stream",
          "name": "stdout",
          "text": [
            "부모님한테 받은 용돈:10000\n",
            "거스름돈 : 6450원\n",
            "500원 짜리 거스름돈 : 12개\n",
            "100원 짜리 거스름돈 : 4개\n",
            "50원 짜리 거스름돈 : 1개\n"
          ]
        }
      ],
      "source": [
        "money=input(\"부모님한테 받은 용돈:\")\n",
        "m = int(money)-3550\n",
        "print(f\"거스름돈 : {m}원\")\n",
        "\n",
        "money500 = int(m)//500\n",
        "print(f\"500원 짜리 거스름돈 : {money500}개\")\n",
        "\n",
        "money100 = m%500//100\n",
        "print(f\"100원 짜리 거스름돈 : {money100}개\")\n",
        "\n",
        "money50 = m%100//50\n",
        "print(f\"50원 짜리 거스름돈 : {money50}개\") "
      ]
    }
  ]
}