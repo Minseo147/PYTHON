{
  "nbformat": 4,
  "nbformat_minor": 0,
  "metadata": {
    "colab": {
      "provenance": []
    },
    "kernelspec": {
      "name": "python3",
      "display_name": "Python 3"
    },
    "language_info": {
      "name": "python"
    }
  },
  "cells": [
    {
      "cell_type": "code",
      "source": [
        "a = int(input(\"용도 : 1:주택용, 2:공업용, 3:산업용? \"))\n",
        "consumption = float(input(\"사용량(kwh)? \"))\n",
        "\n",
        "if a == 1:\n",
        "    basic_rate = 910\n",
        "    kwh_rate = 88\n",
        "    electricity = basic_rate + (kwh_rate * consumption)\n",
        "    print(f\"용도: {a}, 사용량: {consumption:.2f}, 전기요금: {electricity:,.2f}원\")\n",
        "else:        \n",
        "    if a == 2:\n",
        "      basic_rate = 1600\n",
        "      kwh_rate = 182\n",
        "      electricity = basic_rate + (kwh_rate * consumption)\n",
        "      print(f\"용도: {a}, 사용량: {consumption:.2f}, 전기요금: {electricity:,.2f}원\")           \n",
        "    else:\n",
        "      basic_rate = 7300\n",
        "      kwh_rate = 275\n",
        "      electricity = basic_rate + (kwh_rate * consumption)\n",
        "      print(f\"용도: {a}, 사용량: {consumption:.2f}, 전기요금: {electricity:,.2f}원\")"
      ],
      "metadata": {
        "colab": {
          "base_uri": "https://localhost:8080/"
        },
        "id": "OfTfujGd7DnR",
        "outputId": "eb637699-9943-4781-bc2f-99016792118e"
      },
      "execution_count": 10,
      "outputs": [
        {
          "output_type": "stream",
          "name": "stdout",
          "text": [
            "용도 : 1:주택용, 2:공업용, 3:산업용? 1\n",
            "사용량(kwh)? 57\n",
            "용도: 1, 사용량: 57.00, 전기요금: 5,926.00원\n"
          ]
        }
      ]
    },
    {
      "cell_type": "code",
      "source": [
        "name = input(\"이름: \")\n",
        "korean = int(input(\"국어점수:\"))\n",
        "english = int(input(\"영어점수:\"))\n",
        "math = int(input(\"수학점수:\"))\n",
        "\n",
        "sum = int(korean+english+math)\n",
        "average = (korean+english+math)/3 \n",
        "\n",
        "if average >= 95:\n",
        "  print(f\"{name}의 총점은 {sum}점, 평균은 {average:.2f}점, 학점은 A+ 입니다.\")\n",
        "elif average >=90:\n",
        "  print(f\"{name}의 총점은 {sum}점, 평균은 {average:.2f}점, 학점은 A 입니다.\")\n",
        "elif average >=85:\n",
        "  print(f\"{name}의 총점은 {sum}점, 평균은 {average:.2f}점, 학점은 B+ 입니다.\")\n",
        "elif average >=80:\n",
        "  print(f\"{name}의 총점은 {sum}점, 평균은 {average:.2f}점, 학점은 B 입니다.\")\n",
        "elif average >=75:\n",
        "  print(f\"{name}의 총점은 {sum}점, 평균은 {average:.2f}점, 학점은 C+ 입니다.\")\n",
        "elif average >=70:\n",
        "  print(f\"{name}의 총점은 {sum}점, 평균은 {average:.2f}점, 학점은 C 입니다.\")\n",
        "elif average >=65:\n",
        "  print(f\"{name}의 총점은 {sum}점, 평균은 {average:.2f}점, 학점은 D+ 입니다.\")\n",
        "elif average >=60:\n",
        "  print(f\"{name}의 총점은 {sum}점, 평균은 {average:.2f}점, 학점은 D 입니다.\")\n",
        "else:\n",
        "  print(f\"{name}의 총점은 {sum}점, 평균은 {average:.2f}점, 학점은 F 입니다.\")"
      ],
      "metadata": {
        "colab": {
          "base_uri": "https://localhost:8080/"
        },
        "id": "rtTSQn5ggPVm",
        "outputId": "ea89a719-f77c-48be-d8b8-20eaf6b5d83d"
      },
      "execution_count": 3,
      "outputs": [
        {
          "output_type": "stream",
          "name": "stdout",
          "text": [
            "이름: 홍길동\n",
            "국어점수:90\n",
            "영어점수:80\n",
            "수학점수:75\n",
            "홍길동의 총점은 245점, 평균은 81.67점, 학점은 B 입니다.\n"
          ]
        }
      ]
    }
  ]
}