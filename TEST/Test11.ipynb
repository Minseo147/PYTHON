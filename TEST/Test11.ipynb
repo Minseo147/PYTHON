{
  "nbformat": 4,
  "nbformat_minor": 0,
  "metadata": {
    "colab": {
      "provenance": []
    },
    "kernelspec": {
      "name": "python3",
      "display_name": "Python 3"
    },
    "language_info": {
      "name": "python"
    }
  },
  "cells": [
    {
      "cell_type": "code",
      "execution_count": 6,
      "metadata": {
        "colab": {
          "base_uri": "https://localhost:8080/"
        },
        "id": "ckwLJBhxb0nz",
        "outputId": "851435ed-a792-48ee-dd7b-f35a1439b52f"
      },
      "outputs": [
        {
          "output_type": "stream",
          "name": "stdout",
          "text": [
            "Python 6\n",
            "Java 4\n",
            "Web 3\n",
            "C 1\n",
            "R 1\n"
          ]
        }
      ],
      "source": [
        "a = (\"Java\", \"C\", \"Python\", \"R\", \"Web\")\n",
        "\n",
        "b = list(map(lambda x:len(x), a))\n",
        "c = list(zip(a, b))\n",
        "d = sorted(c, key=lambda x:x[1], reverse=True)\n",
        "\n",
        "for i in d:\n",
        "    print(i[0], i[1])"
      ]
    }
  ]
}