{
  "nbformat": 4,
  "nbformat_minor": 0,
  "metadata": {
    "colab": {
      "provenance": []
    },
    "kernelspec": {
      "name": "python3",
      "display_name": "Python 3"
    },
    "language_info": {
      "name": "python"
    }
  },
  "cells": [
    {
      "cell_type": "code",
      "execution_count": 1,
      "metadata": {
        "colab": {
          "base_uri": "https://localhost:8080/"
        },
        "id": "N6fSElrcoL8N",
        "outputId": "50f722f9-e72f-438e-910a-3536e6897c6e"
      },
      "outputs": [
        {
          "output_type": "stream",
          "name": "stdout",
          "text": [
            "dog\n",
            "duck\n",
            "pony\n",
            "cat\n"
          ]
        }
      ],
      "source": [
        "animal = [\"dog\", \"duck\", \"pony\", \"donkey\", \"giraffe\", \"elephant\", \"cat\"]\n",
        "\n",
        "for i in animal:\n",
        "  if len(i)<5:\n",
        "    print(i)"
      ]
    }
  ]
}