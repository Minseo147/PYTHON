{
  "nbformat": 4,
  "nbformat_minor": 0,
  "metadata": {
    "colab": {
      "provenance": []
    },
    "kernelspec": {
      "name": "python3",
      "display_name": "Python 3"
    },
    "language_info": {
      "name": "python"
    }
  },
  "cells": [
    {
      "cell_type": "code",
      "execution_count": 35,
      "metadata": {
        "colab": {
          "base_uri": "https://localhost:8080/"
        },
        "id": "7qTwyDyChHKc",
        "outputId": "203b6255-ec57-464c-c4d4-32064e77e501"
      },
      "outputs": [
        {
          "output_type": "stream",
          "name": "stdout",
          "text": [
            "숫자 입력:11\n",
            "11은(는) 소수 입니다\n"
          ]
        }
      ],
      "source": [
        "a = int(input(\"숫자 입력:\"))\n",
        "\n",
        "for i in range(2, a):\n",
        "  if (a %i) == 0:\n",
        "    print(f\"{a}은(는)소수가 아닙니다.\")\n",
        "    break\n",
        "else:\n",
        "    print(f\"{a}은(는) 소수 입니다\")\n"
      ]
    },
    {
      "cell_type": "code",
      "source": [
        "for i in range(5):\n",
        "  for j in range(i):\n",
        "    print(\" \",end=\"\")\n",
        "  for j in range(i,5):\n",
        "    print(j+1, end=\"\")\n",
        "  print()"
      ],
      "metadata": {
        "colab": {
          "base_uri": "https://localhost:8080/"
        },
        "id": "8w64b_rpFTSN",
        "outputId": "1b7d2df4-635c-4d7a-c5ad-1dce066d459d"
      },
      "execution_count": 32,
      "outputs": [
        {
          "output_type": "stream",
          "name": "stdout",
          "text": [
            "12345\n",
            " 2345\n",
            "  345\n",
            "   45\n",
            "    5\n"
          ]
        }
      ]
    }
  ]
}