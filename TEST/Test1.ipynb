{
  "nbformat": 4,
  "nbformat_minor": 0,
  "metadata": {
    "colab": {
      "provenance": []
    },
    "kernelspec": {
      "name": "python3",
      "display_name": "Python 3"
    },
    "language_info": {
      "name": "python"
    }
  },
  "cells": [
    {
      "cell_type": "code",
      "source": [
        "korean = 100\n",
        "english = 80\n",
        "math = 75\n",
        "sum = korean + english + math\n",
        "average = sum/3\n",
        "\n",
        "print(\"[실행 결과]\")\n",
        "print(\" \")\n",
        "print(f\"국어 : {korean}\\n영어 : {english} \\n수학 : {math}\")\n",
        "print(f\"총점 : {sum}\")\n",
        "print(\"평균 : {0:0,.2f}\".format(average))"
      ],
      "metadata": {
        "colab": {
          "base_uri": "https://localhost:8080/"
        },
        "id": "oeuem_aGovbk",
        "outputId": "9c78b843-a096-405b-c7b2-c40444d6cbc4"
      },
      "execution_count": 20,
      "outputs": [
        {
          "output_type": "stream",
          "name": "stdout",
          "text": [
            "[실행 결과]\n",
            " \n",
            "국어 : 100\n",
            "영어 : 80 \n",
            "수학 : 75\n",
            "총점 : 255\n",
            "평균 : 85.00\n"
          ]
        }
      ]
    }
  ]
}