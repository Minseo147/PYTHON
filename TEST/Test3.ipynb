{
  "nbformat": 4,
  "nbformat_minor": 0,
  "metadata": {
    "colab": {
      "provenance": []
    },
    "kernelspec": {
      "name": "python3",
      "display_name": "Python 3"
    },
    "language_info": {
      "name": "python"
    }
  },
  "cells": [
    {
      "cell_type": "code",
      "source": [],
      "metadata": {
        "id": "zJhcZDE0xOtN"
      },
      "execution_count": null,
      "outputs": []
    },
    {
      "cell_type": "code",
      "execution_count": 25,
      "metadata": {
        "colab": {
          "base_uri": "https://localhost:8080/"
        },
        "id": "YtWWshkFeizz",
        "outputId": "b654fd1a-a65f-4cf7-e112-a27d5355359a"
      },
      "outputs": [
        {
          "output_type": "stream",
          "name": "stdout",
          "text": [
            "알파벳을 입력하세요 : c\n",
            "당신이 입력한 문자 c는 소문자입니다.\n"
          ]
        }
      ],
      "source": [
        "a = input(\"알파벳을 입력하세요 : \")\n",
        "b = \"는 대문자입니다.\" if a.isupper() else \"는 소문자입니다.\"\n",
        "\n",
        "print(f\"당신이 입력한 문자 {a}{b}\".format(a,b))"
      ]
    }
  ]
}